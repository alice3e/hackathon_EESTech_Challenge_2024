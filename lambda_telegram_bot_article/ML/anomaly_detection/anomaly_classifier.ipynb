{
 "cells": [
  {
   "cell_type": "markdown",
   "metadata": {},
   "source": [
    "## Imports"
   ]
  },
  {
   "cell_type": "code",
   "execution_count": 16,
   "metadata": {},
   "outputs": [],
   "source": [
    "import pandas as pd\n",
    "import numpy as np\n",
    "\n",
    "from sklearn.model_selection import train_test_split\n",
    "from sklearn.metrics import precision_score, recall_score, f1_score\n",
    "from catboost import CatBoostClassifier"
   ]
  },
  {
   "cell_type": "markdown",
   "metadata": {},
   "source": [
    "## Loading data"
   ]
  },
  {
   "cell_type": "code",
   "execution_count": 3,
   "metadata": {},
   "outputs": [],
   "source": [
    "PATH_TO_DATA = '../data/для анализа/'"
   ]
  },
  {
   "cell_type": "code",
   "execution_count": 4,
   "metadata": {},
   "outputs": [
    {
     "name": "stderr",
     "output_type": "stream",
     "text": [
      "/var/folders/_h/72vw5ztx7sz2jdjfzdkp77l80000gn/T/ipykernel_73835/660808868.py:1: DtypeWarning: Columns (1,3,4,5,6) have mixed types. Specify dtype option on import or set low_memory=False.\n",
      "  df_normal = pd.read_csv(PATH_TO_DATA + 'df_normal_clean.csv')\n",
      "/var/folders/_h/72vw5ztx7sz2jdjfzdkp77l80000gn/T/ipykernel_73835/660808868.py:2: DtypeWarning: Columns (5,6) have mixed types. Specify dtype option on import or set low_memory=False.\n",
      "  df_anomaly = pd.read_csv(PATH_TO_DATA + 'df_anomaly_clean.csv')\n"
     ]
    }
   ],
   "source": [
    "df_normal = pd.read_csv(PATH_TO_DATA + 'df_normal_clean.csv')\n",
    "df_anomaly = pd.read_csv(PATH_TO_DATA + 'df_anomaly_clean.csv')\n",
    "df_problems = pd.read_csv(PATH_TO_DATA + 'df_problems_clean.csv')"
   ]
  },
  {
   "cell_type": "markdown",
   "metadata": {},
   "source": [
    "## Generating working data"
   ]
  },
  {
   "cell_type": "code",
   "execution_count": 5,
   "metadata": {},
   "outputs": [],
   "source": [
    "# Добавляем новый признак (является ли наблюдение аномалией)\n",
    "\n",
    "df_anomaly['is_anomaly'] = 1\n",
    "df_normal['is_anomaly'] = 0\n",
    "df_problems['is_anomaly'] = 0"
   ]
  },
  {
   "cell_type": "code",
   "execution_count": 6,
   "metadata": {},
   "outputs": [],
   "source": [
    "# Объединяем датасеты\n",
    "df_concat = pd.concat([df_anomaly, df_normal, df_problems], axis=0)"
   ]
  },
  {
   "cell_type": "code",
   "execution_count": 7,
   "metadata": {},
   "outputs": [],
   "source": [
    "df_concat.drop(columns=['Unnamed: 0'], axis=1, inplace=True)"
   ]
  },
  {
   "cell_type": "code",
   "execution_count": 8,
   "metadata": {},
   "outputs": [],
   "source": [
    "# Категориальные признаки\n",
    "cat_features = [\n",
    "    'Сост.пед.сцепл.',\n",
    "]\n",
    "\n",
    "# Бинарные признаки\n",
    "bin_features = [\n",
    "    'Нейтраль КПП (spn3843)',\n",
    "    'Стояночный тормоз (spn3842)',\n",
    "    'Аварийная температура охлаждающей жидкости (spn3841)',\n",
    "    'Засоренность воздушного фильтра (spn3840)',\n",
    "    'Засоренность фильтра КПП (spn3847)',\n",
    "    'Аварийное давление масла ДВС (spn3846)',\n",
    "    'Засоренность фильтра ДВС (spn3845)',\n",
    "    'Засоренность фильтра рулевого управления (spn3844)',\n",
    "    'Засоренность фильтра навесного оборудования (spn3851)',\n",
    "    'Недопустимый уровень масла в гидробаке (spn3850)',\n",
    "    'Аварийная температура масла в гидросистеме (spn3849)',\n",
    "    'Аварийное давление в I контуре тормозной системы (spn3848)',\n",
    "    'Аварийное давление в II контуре тормозной системы (spn3855)',\n",
    "    'Зарядка АКБ (spn3854)',\n",
    "    'Отопитель (spn3853)',\n",
    "    'Выход блока управления двигателем (spn3852)',\n",
    "    'Включение тормозков (spn3859)',\n",
    "    'Засоренность фильтра слива (spn3858)',\n",
    "    'Аварийное давление масла КПП (spn3857)',\n",
    "    'Аварийная температура масла ДВС(spn3856)',\n",
    "    'Неисправность тормозной системы (spn3863)',\n",
    "    'Термостарт (spn3862)',\n",
    "    'Разрешение запуска двигателя (spn3861)',\n",
    "    'Низкий уровень ОЖ (spn3860)',\n",
    "    'Аварийная температура масла ГТР (spn3867)',\n",
    "    'Необходимость сервисного обслуживания (spn3866)',\n",
    "    'Подогрев топливного фильтра (spn3865)',\n",
    "    'Вода в топливе (spn3864)',\n",
    "    'Холодный старт (spn3871)',\n",
    "]\n",
    "\n",
    "# Числовые признаки\n",
    "num_features = [\n",
    "    'Значение счетчика моточасов, час:мин',\n",
    "    'Давление в пневмостистеме (spn46), кПа',\n",
    "    'ДВС. Температура охлаждающей жидкости',\n",
    "    'ДВС. Давление смазки',\n",
    "    'КПП. Давление масла в системе смазки',\n",
    "    'Давл.масла двиг.,кПа',\n",
    "    'ДВС. Частота вращения коленчатого вала',\n",
    "    'Электросистема. Напряжение',\n",
    "    'Уровень топлива % (spn96)',\n",
    "    'Скорость',\n",
    "    'КПП. Температура масла',\n",
    "    'Обор.двиг.,об/мин',\n",
    "    'Полож.пед.акселер.,%',\n",
    "    'Месяц',\n",
    "    'День недели',\n",
    "    'Темп.масла двиг.,°С'\n",
    "]\n",
    "\n",
    "catboost_features = cat_features + bin_features"
   ]
  },
  {
   "cell_type": "code",
   "execution_count": 12,
   "metadata": {},
   "outputs": [],
   "source": [
    "# Разделяем на признаки и таргет\n",
    "X = df_concat.drop(columns=['is_anomaly'], axis=1)\n",
    "y = df_concat['is_anomaly']"
   ]
  },
  {
   "cell_type": "code",
   "execution_count": 13,
   "metadata": {},
   "outputs": [],
   "source": [
    "# Делим данные на тренировочную, тестовую и валидационную часть\n",
    "X_train_val, X_test, y_train_val, y_test = train_test_split(X, y, test_size=0.2, random_state=42, shuffle=True, stratify=y)\n",
    "\n",
    "X_train, X_val, y_train, y_val = train_test_split(X_train_val, y_train_val, test_size=0.25, random_state=42)"
   ]
  },
  {
   "cell_type": "markdown",
   "metadata": {},
   "source": [
    "## Building CatBoostClassifier"
   ]
  },
  {
   "cell_type": "code",
   "execution_count": 15,
   "metadata": {},
   "outputs": [
    {
     "name": "stdout",
     "output_type": "stream",
     "text": [
      "Learning rate set to 0.207331\n",
      "0:\tlearn: 0.1121668\ttest: 0.1121122\tbest: 0.1121122 (0)\ttotal: 1.53s\tremaining: 25m 32s\n",
      "1:\tlearn: 0.0157165\ttest: 0.0157125\tbest: 0.0157125 (1)\ttotal: 3.12s\tremaining: 25m 58s\n",
      "2:\tlearn: 0.0029964\ttest: 0.0029971\tbest: 0.0029971 (2)\ttotal: 4.57s\tremaining: 25m 17s\n",
      "3:\tlearn: 0.0007771\ttest: 0.0007779\tbest: 0.0007779 (3)\ttotal: 5.97s\tremaining: 24m 47s\n",
      "4:\tlearn: 0.0002679\ttest: 0.0002684\tbest: 0.0002684 (4)\ttotal: 7.36s\tremaining: 24m 25s\n",
      "5:\tlearn: 0.0001403\ttest: 0.0001406\tbest: 0.0001406 (5)\ttotal: 8.8s\tremaining: 24m 18s\n",
      "6:\tlearn: 0.0000734\ttest: 0.0000737\tbest: 0.0000737 (6)\ttotal: 10.1s\tremaining: 23m 55s\n",
      "7:\tlearn: 0.0000494\ttest: 0.0000496\tbest: 0.0000496 (7)\ttotal: 11.5s\tremaining: 23m 43s\n",
      "8:\tlearn: 0.0000327\ttest: 0.0000328\tbest: 0.0000328 (8)\ttotal: 12.7s\tremaining: 23m 19s\n",
      "9:\tlearn: 0.0000262\ttest: 0.0000263\tbest: 0.0000263 (9)\ttotal: 14s\tremaining: 23m 3s\n",
      "10:\tlearn: 0.0000191\ttest: 0.0000192\tbest: 0.0000192 (10)\ttotal: 15.2s\tremaining: 22m 44s\n",
      "11:\tlearn: 0.0000174\ttest: 0.0000175\tbest: 0.0000175 (11)\ttotal: 16.4s\tremaining: 22m 27s\n",
      "12:\tlearn: 0.0000160\ttest: 0.0000160\tbest: 0.0000160 (12)\ttotal: 17.8s\tremaining: 22m 29s\n",
      "13:\tlearn: 0.0000124\ttest: 0.0000124\tbest: 0.0000124 (13)\ttotal: 19.2s\tremaining: 22m 33s\n",
      "14:\tlearn: 0.0000101\ttest: 0.0000101\tbest: 0.0000101 (14)\ttotal: 20.7s\tremaining: 22m 36s\n",
      "15:\tlearn: 0.0000094\ttest: 0.0000094\tbest: 0.0000094 (15)\ttotal: 22.3s\tremaining: 22m 50s\n",
      "16:\tlearn: 0.0000087\ttest: 0.0000088\tbest: 0.0000088 (16)\ttotal: 23.7s\tremaining: 22m 49s\n",
      "17:\tlearn: 0.0000082\ttest: 0.0000082\tbest: 0.0000082 (17)\ttotal: 25.1s\tremaining: 22m 48s\n",
      "18:\tlearn: 0.0000072\ttest: 0.0000072\tbest: 0.0000072 (18)\ttotal: 26.5s\tremaining: 22m 46s\n",
      "19:\tlearn: 0.0000072\ttest: 0.0000072\tbest: 0.0000072 (18)\ttotal: 27.8s\tremaining: 22m 41s\n",
      "20:\tlearn: 0.0000072\ttest: 0.0000072\tbest: 0.0000072 (18)\ttotal: 29.1s\tremaining: 22m 38s\n",
      "21:\tlearn: 0.0000072\ttest: 0.0000072\tbest: 0.0000072 (18)\ttotal: 30.5s\tremaining: 22m 34s\n",
      "22:\tlearn: 0.0000072\ttest: 0.0000072\tbest: 0.0000072 (18)\ttotal: 31.8s\tremaining: 22m 31s\n",
      "23:\tlearn: 0.0000072\ttest: 0.0000072\tbest: 0.0000072 (18)\ttotal: 33s\tremaining: 22m 21s\n",
      "24:\tlearn: 0.0000072\ttest: 0.0000072\tbest: 0.0000072 (18)\ttotal: 34.1s\tremaining: 22m 9s\n",
      "25:\tlearn: 0.0000072\ttest: 0.0000072\tbest: 0.0000072 (18)\ttotal: 35.4s\tremaining: 22m 5s\n",
      "26:\tlearn: 0.0000072\ttest: 0.0000072\tbest: 0.0000072 (18)\ttotal: 36.6s\tremaining: 22m\n",
      "27:\tlearn: 0.0000072\ttest: 0.0000072\tbest: 0.0000072 (18)\ttotal: 37.9s\tremaining: 21m 55s\n",
      "28:\tlearn: 0.0000072\ttest: 0.0000072\tbest: 0.0000072 (18)\ttotal: 39.2s\tremaining: 21m 52s\n",
      "Stopped by overfitting detector  (10 iterations wait)\n",
      "\n",
      "bestTest = 7.210307332e-06\n",
      "bestIteration = 18\n",
      "\n",
      "Shrink model to first 19 iterations.\n"
     ]
    },
    {
     "data": {
      "text/plain": [
       "<catboost.core.CatBoostClassifier at 0x12e831690>"
      ]
     },
     "execution_count": 15,
     "metadata": {},
     "output_type": "execute_result"
    }
   ],
   "source": [
    "# Инициализируем классификатор и обучаем его на данных\n",
    "\n",
    "classifier = CatBoostClassifier()\n",
    "\n",
    "classifier.fit(\n",
    "    X_train,\n",
    "    y_train,\n",
    "    eval_set=(X_val, y_val),\n",
    "    cat_features=catboost_features,\n",
    "    early_stopping_rounds=10,\n",
    ")"
   ]
  },
  {
   "cell_type": "markdown",
   "metadata": {},
   "source": [
    "## Assesing metrics"
   ]
  },
  {
   "cell_type": "code",
   "execution_count": 17,
   "metadata": {},
   "outputs": [
    {
     "data": {
      "text/plain": [
       "(1.0, 1.0, 1.0)"
      ]
     },
     "execution_count": 17,
     "metadata": {},
     "output_type": "execute_result"
    }
   ],
   "source": [
    "y_pred = classifier.predict(X_test)\n",
    "\n",
    "precision_score(y_test, y_pred), recall_score(y_test, y_pred), f1_score(y_test, y_pred)"
   ]
  },
  {
   "cell_type": "code",
   "execution_count": 18,
   "metadata": {},
   "outputs": [],
   "source": [
    "classifier.save_model('anomaly_classifier')"
   ]
  }
 ],
 "metadata": {
  "kernelspec": {
   "display_name": "base",
   "language": "python",
   "name": "python3"
  },
  "language_info": {
   "codemirror_mode": {
    "name": "ipython",
    "version": 3
   },
   "file_extension": ".py",
   "mimetype": "text/x-python",
   "name": "python",
   "nbconvert_exporter": "python",
   "pygments_lexer": "ipython3",
   "version": "3.11.8"
  }
 },
 "nbformat": 4,
 "nbformat_minor": 2
}
